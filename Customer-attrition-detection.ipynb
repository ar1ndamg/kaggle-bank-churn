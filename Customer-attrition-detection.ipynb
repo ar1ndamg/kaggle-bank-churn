{
 "cells": [
  {
   "cell_type": "code",
   "execution_count": 1,
   "metadata": {
    "_cell_guid": "b1076dfc-b9ad-4769-8c92-a6c4dae69d19",
    "_uuid": "8f2839f25d086af736a60e9eeb907d3b93b6e0e5",
    "execution": {
     "iopub.execute_input": "2021-01-26T17:28:21.235625Z",
     "iopub.status.busy": "2021-01-26T17:28:21.234953Z",
     "iopub.status.idle": "2021-01-26T17:28:21.247206Z",
     "shell.execute_reply": "2021-01-26T17:28:21.246524Z"
    },
    "papermill": {
     "duration": 0.042577,
     "end_time": "2021-01-26T17:28:21.247401",
     "exception": false,
     "start_time": "2021-01-26T17:28:21.204824",
     "status": "completed"
    },
    "tags": []
   },
   "outputs": [
    {
     "name": "stdout",
     "output_type": "stream",
     "text": [
      "/kaggle/input/credit-card-customers/BankChurners.csv\n"
     ]
    }
   ],
   "source": [
    "import numpy as np # linear algebra\n",
    "import pandas as pd # data processing, CSV file I/O (e.g. pd.read_csv)\n",
    "np.random.seed(42)\n",
    "import os\n",
    "for dirname, _, filenames in os.walk('/kaggle/input'):\n",
    "    for filename in filenames:\n",
    "        print(os.path.join(dirname, filename))"
   ]
  },
  {
   "cell_type": "code",
   "execution_count": 2,
   "metadata": {
    "execution": {
     "iopub.execute_input": "2021-01-26T17:28:21.300999Z",
     "iopub.status.busy": "2021-01-26T17:28:21.300174Z",
     "iopub.status.idle": "2021-01-26T17:28:21.419942Z",
     "shell.execute_reply": "2021-01-26T17:28:21.419353Z"
    },
    "papermill": {
     "duration": 0.148779,
     "end_time": "2021-01-26T17:28:21.420095",
     "exception": false,
     "start_time": "2021-01-26T17:28:21.271316",
     "status": "completed"
    },
    "tags": []
   },
   "outputs": [
    {
     "data": {
      "text/html": [
       "<div>\n",
       "<style scoped>\n",
       "    .dataframe tbody tr th:only-of-type {\n",
       "        vertical-align: middle;\n",
       "    }\n",
       "\n",
       "    .dataframe tbody tr th {\n",
       "        vertical-align: top;\n",
       "    }\n",
       "\n",
       "    .dataframe thead th {\n",
       "        text-align: right;\n",
       "    }\n",
       "</style>\n",
       "<table border=\"1\" class=\"dataframe\">\n",
       "  <thead>\n",
       "    <tr style=\"text-align: right;\">\n",
       "      <th></th>\n",
       "      <th>CLIENTNUM</th>\n",
       "      <th>Attrition_Flag</th>\n",
       "      <th>Customer_Age</th>\n",
       "      <th>Gender</th>\n",
       "      <th>Dependent_count</th>\n",
       "      <th>Education_Level</th>\n",
       "      <th>Marital_Status</th>\n",
       "      <th>Income_Category</th>\n",
       "      <th>Card_Category</th>\n",
       "      <th>Months_on_book</th>\n",
       "      <th>...</th>\n",
       "      <th>Credit_Limit</th>\n",
       "      <th>Total_Revolving_Bal</th>\n",
       "      <th>Avg_Open_To_Buy</th>\n",
       "      <th>Total_Amt_Chng_Q4_Q1</th>\n",
       "      <th>Total_Trans_Amt</th>\n",
       "      <th>Total_Trans_Ct</th>\n",
       "      <th>Total_Ct_Chng_Q4_Q1</th>\n",
       "      <th>Avg_Utilization_Ratio</th>\n",
       "      <th>Naive_Bayes_Classifier_Attrition_Flag_Card_Category_Contacts_Count_12_mon_Dependent_count_Education_Level_Months_Inactive_12_mon_1</th>\n",
       "      <th>Naive_Bayes_Classifier_Attrition_Flag_Card_Category_Contacts_Count_12_mon_Dependent_count_Education_Level_Months_Inactive_12_mon_2</th>\n",
       "    </tr>\n",
       "  </thead>\n",
       "  <tbody>\n",
       "    <tr>\n",
       "      <th>0</th>\n",
       "      <td>768805383</td>\n",
       "      <td>Existing Customer</td>\n",
       "      <td>45</td>\n",
       "      <td>M</td>\n",
       "      <td>3</td>\n",
       "      <td>High School</td>\n",
       "      <td>Married</td>\n",
       "      <td>$60K - $80K</td>\n",
       "      <td>Blue</td>\n",
       "      <td>39</td>\n",
       "      <td>...</td>\n",
       "      <td>12691.0</td>\n",
       "      <td>777</td>\n",
       "      <td>11914.0</td>\n",
       "      <td>1.335</td>\n",
       "      <td>1144</td>\n",
       "      <td>42</td>\n",
       "      <td>1.625</td>\n",
       "      <td>0.061</td>\n",
       "      <td>0.000093</td>\n",
       "      <td>0.99991</td>\n",
       "    </tr>\n",
       "    <tr>\n",
       "      <th>1</th>\n",
       "      <td>818770008</td>\n",
       "      <td>Existing Customer</td>\n",
       "      <td>49</td>\n",
       "      <td>F</td>\n",
       "      <td>5</td>\n",
       "      <td>Graduate</td>\n",
       "      <td>Single</td>\n",
       "      <td>Less than $40K</td>\n",
       "      <td>Blue</td>\n",
       "      <td>44</td>\n",
       "      <td>...</td>\n",
       "      <td>8256.0</td>\n",
       "      <td>864</td>\n",
       "      <td>7392.0</td>\n",
       "      <td>1.541</td>\n",
       "      <td>1291</td>\n",
       "      <td>33</td>\n",
       "      <td>3.714</td>\n",
       "      <td>0.105</td>\n",
       "      <td>0.000057</td>\n",
       "      <td>0.99994</td>\n",
       "    </tr>\n",
       "    <tr>\n",
       "      <th>2</th>\n",
       "      <td>713982108</td>\n",
       "      <td>Existing Customer</td>\n",
       "      <td>51</td>\n",
       "      <td>M</td>\n",
       "      <td>3</td>\n",
       "      <td>Graduate</td>\n",
       "      <td>Married</td>\n",
       "      <td>$80K - $120K</td>\n",
       "      <td>Blue</td>\n",
       "      <td>36</td>\n",
       "      <td>...</td>\n",
       "      <td>3418.0</td>\n",
       "      <td>0</td>\n",
       "      <td>3418.0</td>\n",
       "      <td>2.594</td>\n",
       "      <td>1887</td>\n",
       "      <td>20</td>\n",
       "      <td>2.333</td>\n",
       "      <td>0.000</td>\n",
       "      <td>0.000021</td>\n",
       "      <td>0.99998</td>\n",
       "    </tr>\n",
       "    <tr>\n",
       "      <th>3</th>\n",
       "      <td>769911858</td>\n",
       "      <td>Existing Customer</td>\n",
       "      <td>40</td>\n",
       "      <td>F</td>\n",
       "      <td>4</td>\n",
       "      <td>High School</td>\n",
       "      <td>Unknown</td>\n",
       "      <td>Less than $40K</td>\n",
       "      <td>Blue</td>\n",
       "      <td>34</td>\n",
       "      <td>...</td>\n",
       "      <td>3313.0</td>\n",
       "      <td>2517</td>\n",
       "      <td>796.0</td>\n",
       "      <td>1.405</td>\n",
       "      <td>1171</td>\n",
       "      <td>20</td>\n",
       "      <td>2.333</td>\n",
       "      <td>0.760</td>\n",
       "      <td>0.000134</td>\n",
       "      <td>0.99987</td>\n",
       "    </tr>\n",
       "    <tr>\n",
       "      <th>4</th>\n",
       "      <td>709106358</td>\n",
       "      <td>Existing Customer</td>\n",
       "      <td>40</td>\n",
       "      <td>M</td>\n",
       "      <td>3</td>\n",
       "      <td>Uneducated</td>\n",
       "      <td>Married</td>\n",
       "      <td>$60K - $80K</td>\n",
       "      <td>Blue</td>\n",
       "      <td>21</td>\n",
       "      <td>...</td>\n",
       "      <td>4716.0</td>\n",
       "      <td>0</td>\n",
       "      <td>4716.0</td>\n",
       "      <td>2.175</td>\n",
       "      <td>816</td>\n",
       "      <td>28</td>\n",
       "      <td>2.500</td>\n",
       "      <td>0.000</td>\n",
       "      <td>0.000022</td>\n",
       "      <td>0.99998</td>\n",
       "    </tr>\n",
       "  </tbody>\n",
       "</table>\n",
       "<p>5 rows × 23 columns</p>\n",
       "</div>"
      ],
      "text/plain": [
       "   CLIENTNUM     Attrition_Flag  Customer_Age Gender  Dependent_count  \\\n",
       "0  768805383  Existing Customer            45      M                3   \n",
       "1  818770008  Existing Customer            49      F                5   \n",
       "2  713982108  Existing Customer            51      M                3   \n",
       "3  769911858  Existing Customer            40      F                4   \n",
       "4  709106358  Existing Customer            40      M                3   \n",
       "\n",
       "  Education_Level Marital_Status Income_Category Card_Category  \\\n",
       "0     High School        Married     $60K - $80K          Blue   \n",
       "1        Graduate         Single  Less than $40K          Blue   \n",
       "2        Graduate        Married    $80K - $120K          Blue   \n",
       "3     High School        Unknown  Less than $40K          Blue   \n",
       "4      Uneducated        Married     $60K - $80K          Blue   \n",
       "\n",
       "   Months_on_book  ...  Credit_Limit  Total_Revolving_Bal  Avg_Open_To_Buy  \\\n",
       "0              39  ...       12691.0                  777          11914.0   \n",
       "1              44  ...        8256.0                  864           7392.0   \n",
       "2              36  ...        3418.0                    0           3418.0   \n",
       "3              34  ...        3313.0                 2517            796.0   \n",
       "4              21  ...        4716.0                    0           4716.0   \n",
       "\n",
       "   Total_Amt_Chng_Q4_Q1  Total_Trans_Amt  Total_Trans_Ct  Total_Ct_Chng_Q4_Q1  \\\n",
       "0                 1.335             1144              42                1.625   \n",
       "1                 1.541             1291              33                3.714   \n",
       "2                 2.594             1887              20                2.333   \n",
       "3                 1.405             1171              20                2.333   \n",
       "4                 2.175              816              28                2.500   \n",
       "\n",
       "   Avg_Utilization_Ratio  \\\n",
       "0                  0.061   \n",
       "1                  0.105   \n",
       "2                  0.000   \n",
       "3                  0.760   \n",
       "4                  0.000   \n",
       "\n",
       "   Naive_Bayes_Classifier_Attrition_Flag_Card_Category_Contacts_Count_12_mon_Dependent_count_Education_Level_Months_Inactive_12_mon_1  \\\n",
       "0                                           0.000093                                                                                    \n",
       "1                                           0.000057                                                                                    \n",
       "2                                           0.000021                                                                                    \n",
       "3                                           0.000134                                                                                    \n",
       "4                                           0.000022                                                                                    \n",
       "\n",
       "   Naive_Bayes_Classifier_Attrition_Flag_Card_Category_Contacts_Count_12_mon_Dependent_count_Education_Level_Months_Inactive_12_mon_2  \n",
       "0                                            0.99991                                                                                   \n",
       "1                                            0.99994                                                                                   \n",
       "2                                            0.99998                                                                                   \n",
       "3                                            0.99987                                                                                   \n",
       "4                                            0.99998                                                                                   \n",
       "\n",
       "[5 rows x 23 columns]"
      ]
     },
     "execution_count": 2,
     "metadata": {},
     "output_type": "execute_result"
    }
   ],
   "source": [
    "df = pd.read_csv(\"/kaggle/input/credit-card-customers/BankChurners.csv\")\n",
    "df.head()"
   ]
  },
  {
   "cell_type": "code",
   "execution_count": 3,
   "metadata": {
    "execution": {
     "iopub.execute_input": "2021-01-26T17:28:21.474042Z",
     "iopub.status.busy": "2021-01-26T17:28:21.473296Z",
     "iopub.status.idle": "2021-01-26T17:28:21.477079Z",
     "shell.execute_reply": "2021-01-26T17:28:21.477509Z"
    },
    "papermill": {
     "duration": 0.03331,
     "end_time": "2021-01-26T17:28:21.477694",
     "exception": false,
     "start_time": "2021-01-26T17:28:21.444384",
     "status": "completed"
    },
    "tags": []
   },
   "outputs": [
    {
     "data": {
      "text/plain": [
       "Index(['CLIENTNUM', 'Attrition_Flag', 'Customer_Age', 'Gender',\n",
       "       'Dependent_count', 'Education_Level', 'Marital_Status',\n",
       "       'Income_Category', 'Card_Category', 'Months_on_book',\n",
       "       'Total_Relationship_Count', 'Months_Inactive_12_mon',\n",
       "       'Contacts_Count_12_mon', 'Credit_Limit', 'Total_Revolving_Bal',\n",
       "       'Avg_Open_To_Buy', 'Total_Amt_Chng_Q4_Q1', 'Total_Trans_Amt',\n",
       "       'Total_Trans_Ct', 'Total_Ct_Chng_Q4_Q1', 'Avg_Utilization_Ratio',\n",
       "       'Naive_Bayes_Classifier_Attrition_Flag_Card_Category_Contacts_Count_12_mon_Dependent_count_Education_Level_Months_Inactive_12_mon_1',\n",
       "       'Naive_Bayes_Classifier_Attrition_Flag_Card_Category_Contacts_Count_12_mon_Dependent_count_Education_Level_Months_Inactive_12_mon_2'],\n",
       "      dtype='object')"
      ]
     },
     "execution_count": 3,
     "metadata": {},
     "output_type": "execute_result"
    }
   ],
   "source": [
    "df.columns"
   ]
  },
  {
   "cell_type": "markdown",
   "metadata": {
    "papermill": {
     "duration": 0.024088,
     "end_time": "2021-01-26T17:28:21.527638",
     "exception": false,
     "start_time": "2021-01-26T17:28:21.503550",
     "status": "completed"
    },
    "tags": []
   },
   "source": [
    "Removing unwanted columns"
   ]
  },
  {
   "cell_type": "code",
   "execution_count": 4,
   "metadata": {
    "execution": {
     "iopub.execute_input": "2021-01-26T17:28:21.584800Z",
     "iopub.status.busy": "2021-01-26T17:28:21.584093Z",
     "iopub.status.idle": "2021-01-26T17:28:21.587137Z",
     "shell.execute_reply": "2021-01-26T17:28:21.586628Z"
    },
    "papermill": {
     "duration": 0.034906,
     "end_time": "2021-01-26T17:28:21.587277",
     "exception": false,
     "start_time": "2021-01-26T17:28:21.552371",
     "status": "completed"
    },
    "tags": []
   },
   "outputs": [],
   "source": [
    "unwanted_cols = ['CLIENTNUM','Naive_Bayes_Classifier_Attrition_Flag_Card_Category_Contacts_Count_12_mon_Dependent_count_Education_Level_Months_Inactive_12_mon_1',\n",
    "       'Naive_Bayes_Classifier_Attrition_Flag_Card_Category_Contacts_Count_12_mon_Dependent_count_Education_Level_Months_Inactive_12_mon_2']\n",
    "df.drop(unwanted_cols, inplace=True, axis=1)"
   ]
  },
  {
   "cell_type": "code",
   "execution_count": 5,
   "metadata": {
    "execution": {
     "iopub.execute_input": "2021-01-26T17:28:21.643622Z",
     "iopub.status.busy": "2021-01-26T17:28:21.642604Z",
     "iopub.status.idle": "2021-01-26T17:28:21.647295Z",
     "shell.execute_reply": "2021-01-26T17:28:21.646795Z"
    },
    "papermill": {
     "duration": 0.034288,
     "end_time": "2021-01-26T17:28:21.647437",
     "exception": false,
     "start_time": "2021-01-26T17:28:21.613149",
     "status": "completed"
    },
    "tags": []
   },
   "outputs": [
    {
     "data": {
      "text/plain": [
       "Index(['Attrition_Flag', 'Customer_Age', 'Gender', 'Dependent_count',\n",
       "       'Education_Level', 'Marital_Status', 'Income_Category', 'Card_Category',\n",
       "       'Months_on_book', 'Total_Relationship_Count', 'Months_Inactive_12_mon',\n",
       "       'Contacts_Count_12_mon', 'Credit_Limit', 'Total_Revolving_Bal',\n",
       "       'Avg_Open_To_Buy', 'Total_Amt_Chng_Q4_Q1', 'Total_Trans_Amt',\n",
       "       'Total_Trans_Ct', 'Total_Ct_Chng_Q4_Q1', 'Avg_Utilization_Ratio'],\n",
       "      dtype='object')"
      ]
     },
     "execution_count": 5,
     "metadata": {},
     "output_type": "execute_result"
    }
   ],
   "source": [
    "df.columns"
   ]
  },
  {
   "cell_type": "code",
   "execution_count": 6,
   "metadata": {
    "execution": {
     "iopub.execute_input": "2021-01-26T17:28:21.704379Z",
     "iopub.status.busy": "2021-01-26T17:28:21.703511Z",
     "iopub.status.idle": "2021-01-26T17:28:21.708008Z",
     "shell.execute_reply": "2021-01-26T17:28:21.707416Z"
    },
    "papermill": {
     "duration": 0.03581,
     "end_time": "2021-01-26T17:28:21.708150",
     "exception": false,
     "start_time": "2021-01-26T17:28:21.672340",
     "status": "completed"
    },
    "tags": []
   },
   "outputs": [
    {
     "data": {
      "text/plain": [
       "Index(['Attrition_Flag', 'Gender', 'Education_Level', 'Marital_Status',\n",
       "       'Income_Category', 'Card_Category'],\n",
       "      dtype='object')"
      ]
     },
     "execution_count": 6,
     "metadata": {},
     "output_type": "execute_result"
    }
   ],
   "source": [
    "cat_cols = df.columns[df.dtypes == 'object']\n",
    "cat_cols"
   ]
  },
  {
   "cell_type": "markdown",
   "metadata": {
    "papermill": {
     "duration": 0.025115,
     "end_time": "2021-01-26T17:28:21.759083",
     "exception": false,
     "start_time": "2021-01-26T17:28:21.733968",
     "status": "completed"
    },
    "tags": []
   },
   "source": [
    "Categorical columns: Attrition_Flag, Gender, Education_Level, Marital_Status, Income_Category, Card_Category"
   ]
  },
  {
   "cell_type": "code",
   "execution_count": 7,
   "metadata": {
    "execution": {
     "iopub.execute_input": "2021-01-26T17:28:21.821289Z",
     "iopub.status.busy": "2021-01-26T17:28:21.820565Z",
     "iopub.status.idle": "2021-01-26T17:28:21.828777Z",
     "shell.execute_reply": "2021-01-26T17:28:21.828063Z"
    },
    "papermill": {
     "duration": 0.044424,
     "end_time": "2021-01-26T17:28:21.828936",
     "exception": false,
     "start_time": "2021-01-26T17:28:21.784512",
     "status": "completed"
    },
    "tags": []
   },
   "outputs": [
    {
     "data": {
      "text/plain": [
       "Attrition_Flag              0\n",
       "Customer_Age                0\n",
       "Gender                      0\n",
       "Dependent_count             0\n",
       "Education_Level             0\n",
       "Marital_Status              0\n",
       "Income_Category             0\n",
       "Card_Category               0\n",
       "Months_on_book              0\n",
       "Total_Relationship_Count    0\n",
       "Months_Inactive_12_mon      0\n",
       "Contacts_Count_12_mon       0\n",
       "Credit_Limit                0\n",
       "Total_Revolving_Bal         0\n",
       "Avg_Open_To_Buy             0\n",
       "Total_Amt_Chng_Q4_Q1        0\n",
       "Total_Trans_Amt             0\n",
       "Total_Trans_Ct              0\n",
       "Total_Ct_Chng_Q4_Q1         0\n",
       "Avg_Utilization_Ratio       0\n",
       "dtype: int64"
      ]
     },
     "execution_count": 7,
     "metadata": {},
     "output_type": "execute_result"
    }
   ],
   "source": [
    "df.isna().sum()"
   ]
  },
  {
   "cell_type": "markdown",
   "metadata": {
    "papermill": {
     "duration": 0.025442,
     "end_time": "2021-01-26T17:28:21.880510",
     "exception": false,
     "start_time": "2021-01-26T17:28:21.855068",
     "status": "completed"
    },
    "tags": []
   },
   "source": [
    "No Null values present"
   ]
  },
  {
   "cell_type": "markdown",
   "metadata": {
    "papermill": {
     "duration": 0.025295,
     "end_time": "2021-01-26T17:28:21.931669",
     "exception": false,
     "start_time": "2021-01-26T17:28:21.906374",
     "status": "completed"
    },
    "tags": []
   },
   "source": [
    "# Visualization"
   ]
  },
  {
   "cell_type": "code",
   "execution_count": 8,
   "metadata": {
    "execution": {
     "iopub.execute_input": "2021-01-26T17:28:21.989446Z",
     "iopub.status.busy": "2021-01-26T17:28:21.988785Z",
     "iopub.status.idle": "2021-01-26T17:28:24.537715Z",
     "shell.execute_reply": "2021-01-26T17:28:24.538234Z"
    },
    "papermill": {
     "duration": 2.580826,
     "end_time": "2021-01-26T17:28:24.538405",
     "exception": false,
     "start_time": "2021-01-26T17:28:21.957579",
     "status": "completed"
    },
    "tags": []
   },
   "outputs": [
    {
     "data": {
      "text/plain": [
       "<AxesSubplot:>"
      ]
     },
     "execution_count": 8,
     "metadata": {},
     "output_type": "execute_result"
    },
    {
     "data": {
      "image/png": "[encoded data removed]",
      "text/plain": [
       "<Figure size 1152x720 with 2 Axes>"
      ]
     },
     "metadata": {
      "needs_background": "light"
     },
     "output_type": "display_data"
    }
   ],
   "source": [
    "import seaborn as sns\n",
    "import matplotlib.pyplot as plt\n",
    "\n",
    "fig, ax = plt.subplots(figsize=(16,10))\n",
    "corr = df.corr()\n",
    "sns.heatmap(corr.abs(), \n",
    "        xticklabels=corr.columns,\n",
    "        yticklabels=corr.columns, annot=True)"
   ]
  },
  {
   "cell_type": "markdown",
   "metadata": {
    "papermill": {
     "duration": 0.030974,
     "end_time": "2021-01-26T17:28:24.600032",
     "exception": false,
     "start_time": "2021-01-26T17:28:24.569058",
     "status": "completed"
    },
    "tags": []
   },
   "source": [
    "**Visualize categorical columns**"
   ]
  },
  {
   "cell_type": "code",
   "execution_count": 9,
   "metadata": {
    "execution": {
     "iopub.execute_input": "2021-01-26T17:28:24.676301Z",
     "iopub.status.busy": "2021-01-26T17:28:24.675535Z",
     "iopub.status.idle": "2021-01-26T17:28:27.001852Z",
     "shell.execute_reply": "2021-01-26T17:28:27.002413Z"
    },
    "papermill": {
     "duration": 2.371949,
     "end_time": "2021-01-26T17:28:27.002590",
     "exception": false,
     "start_time": "2021-01-26T17:28:24.630641",
     "status": "completed"
    },
    "tags": []
   },
   "outputs": [
    {
     "data": {
      "image/png": "[encoded data removed]",
      "text/plain": [
       "<Figure size 345.6x432 with 1 Axes>"
      ]
     },
     "metadata": {
      "needs_background": "light"
     },
     "output_type": "display_data"
    },
    {
     "data": {
      "image/png": "[encoded data removed]",
      "text/plain": [
       "<Figure size 472.725x432 with 1 Axes>"
      ]
     },
     "metadata": {
      "needs_background": "light"
     },
     "output_type": "display_data"
    },
    {
     "data": {
      "image/png": "[encoded data removed]",
      "text/plain": [
       "<Figure size 472.725x432 with 1 Axes>"
      ]
     },
     "metadata": {
      "needs_background": "light"
     },
     "output_type": "display_data"
    },
    {
     "data": {
      "image/png": "[encoded data removed]",
      "text/plain": [
       "<Figure size 472.725x432 with 1 Axes>"
      ]
     },
     "metadata": {
      "needs_background": "light"
     },
     "output_type": "display_data"
    },
    {
     "data": {
      "image/png": "[encoded data removed]",
      "text/plain": [
       "<Figure size 472.725x432 with 1 Axes>"
      ]
     },
     "metadata": {
      "needs_background": "light"
     },
     "output_type": "display_data"
    },
    {
     "data": {
      "image/png": "[encoded data removed]",
      "text/plain": [
       "<Figure size 472.725x432 with 1 Axes>"
      ]
     },
     "metadata": {
      "needs_background": "light"
     },
     "output_type": "display_data"
    }
   ],
   "source": [
    "\n",
    "for col in cat_cols:\n",
    "    g = sns.catplot(x=col,\n",
    "                hue=\"Attrition_Flag\",\n",
    "                data=df, kind=\"count\",\n",
    "                height=6, aspect=.8)\n",
    "plt.show()"
   ]
  },
  {
   "cell_type": "markdown",
   "metadata": {
    "papermill": {
     "duration": 0.034936,
     "end_time": "2021-01-26T17:28:27.073534",
     "exception": false,
     "start_time": "2021-01-26T17:28:27.038598",
     "status": "completed"
    },
    "tags": []
   },
   "source": [
    "# Pre-processing"
   ]
  },
  {
   "cell_type": "markdown",
   "metadata": {
    "papermill": {
     "duration": 0.035401,
     "end_time": "2021-01-26T17:28:27.146148",
     "exception": false,
     "start_time": "2021-01-26T17:28:27.110747",
     "status": "completed"
    },
    "tags": []
   },
   "source": [
    "Label encoding the categorical columns"
   ]
  },
  {
   "cell_type": "code",
   "execution_count": 10,
   "metadata": {
    "execution": {
     "iopub.execute_input": "2021-01-26T17:28:27.220607Z",
     "iopub.status.busy": "2021-01-26T17:28:27.219947Z",
     "iopub.status.idle": "2021-01-26T17:28:27.224596Z",
     "shell.execute_reply": "2021-01-26T17:28:27.225072Z"
    },
    "papermill": {
     "duration": 0.043893,
     "end_time": "2021-01-26T17:28:27.225249",
     "exception": false,
     "start_time": "2021-01-26T17:28:27.181356",
     "status": "completed"
    },
    "tags": []
   },
   "outputs": [
    {
     "data": {
      "text/plain": [
       "Index(['Attrition_Flag', 'Gender', 'Education_Level', 'Marital_Status',\n",
       "       'Income_Category', 'Card_Category'],\n",
       "      dtype='object')"
      ]
     },
     "execution_count": 10,
     "metadata": {},
     "output_type": "execute_result"
    }
   ],
   "source": [
    "cat_cols"
   ]
  },
  {
   "cell_type": "code",
   "execution_count": 11,
   "metadata": {
    "execution": {
     "iopub.execute_input": "2021-01-26T17:28:27.300140Z",
     "iopub.status.busy": "2021-01-26T17:28:27.299467Z",
     "iopub.status.idle": "2021-01-26T17:28:27.306791Z",
     "shell.execute_reply": "2021-01-26T17:28:27.307277Z"
    },
    "papermill": {
     "duration": 0.046519,
     "end_time": "2021-01-26T17:28:27.307460",
     "exception": false,
     "start_time": "2021-01-26T17:28:27.260941",
     "status": "completed"
    },
    "tags": []
   },
   "outputs": [],
   "source": [
    "df[\"Attrition_Flag\"] = df[\"Attrition_Flag\"].map({'Existing Customer':0, 'Attrited Customer':1})"
   ]
  },
  {
   "cell_type": "code",
   "execution_count": 12,
   "metadata": {
    "execution": {
     "iopub.execute_input": "2021-01-26T17:28:27.387123Z",
     "iopub.status.busy": "2021-01-26T17:28:27.385831Z",
     "iopub.status.idle": "2021-01-26T17:28:27.389485Z",
     "shell.execute_reply": "2021-01-26T17:28:27.390061Z"
    },
    "papermill": {
     "duration": 0.046956,
     "end_time": "2021-01-26T17:28:27.390244",
     "exception": false,
     "start_time": "2021-01-26T17:28:27.343288",
     "status": "completed"
    },
    "tags": []
   },
   "outputs": [],
   "source": [
    "df[\"Gender\"] = df.Gender.map({'M':0, 'F':1})"
   ]
  },
  {
   "cell_type": "code",
   "execution_count": 13,
   "metadata": {
    "execution": {
     "iopub.execute_input": "2021-01-26T17:28:27.466886Z",
     "iopub.status.busy": "2021-01-26T17:28:27.466164Z",
     "iopub.status.idle": "2021-01-26T17:28:27.472443Z",
     "shell.execute_reply": "2021-01-26T17:28:27.473049Z"
    },
    "papermill": {
     "duration": 0.046273,
     "end_time": "2021-01-26T17:28:27.473235",
     "exception": false,
     "start_time": "2021-01-26T17:28:27.426962",
     "status": "completed"
    },
    "tags": []
   },
   "outputs": [
    {
     "data": {
      "text/plain": [
       "array(['High School', 'Graduate', 'Uneducated', 'Unknown', 'College',\n",
       "       'Post-Graduate', 'Doctorate'], dtype=object)"
      ]
     },
     "execution_count": 13,
     "metadata": {},
     "output_type": "execute_result"
    }
   ],
   "source": [
    "df[\"Education_Level\"].unique()"
   ]
  },
  {
   "cell_type": "code",
   "execution_count": 14,
   "metadata": {
    "execution": {
     "iopub.execute_input": "2021-01-26T17:28:27.550185Z",
     "iopub.status.busy": "2021-01-26T17:28:27.549458Z",
     "iopub.status.idle": "2021-01-26T17:28:27.558363Z",
     "shell.execute_reply": "2021-01-26T17:28:27.557660Z"
    },
    "papermill": {
     "duration": 0.048074,
     "end_time": "2021-01-26T17:28:27.558504",
     "exception": false,
     "start_time": "2021-01-26T17:28:27.510430",
     "status": "completed"
    },
    "tags": []
   },
   "outputs": [],
   "source": [
    "education_mappping = {\n",
    "    \"Uneducated\":0,\n",
    "    \"High School\":1,\n",
    "    \"Graduate\": 2,\n",
    "    \"College\": 3,\n",
    "    \"Post-Graduate\":4,\n",
    "    \"Doctorate\":5,\n",
    "    \"Unknown\": -9\n",
    "}\n",
    "df[\"Education_Level\"] = df[\"Education_Level\"].map(education_mappping)"
   ]
  },
  {
   "cell_type": "code",
   "execution_count": 15,
   "metadata": {
    "execution": {
     "iopub.execute_input": "2021-01-26T17:28:27.636909Z",
     "iopub.status.busy": "2021-01-26T17:28:27.636222Z",
     "iopub.status.idle": "2021-01-26T17:28:27.639913Z",
     "shell.execute_reply": "2021-01-26T17:28:27.640491Z"
    },
    "papermill": {
     "duration": 0.045917,
     "end_time": "2021-01-26T17:28:27.640665",
     "exception": false,
     "start_time": "2021-01-26T17:28:27.594748",
     "status": "completed"
    },
    "tags": []
   },
   "outputs": [
    {
     "data": {
      "text/plain": [
       "array(['Married', 'Single', 'Unknown', 'Divorced'], dtype=object)"
      ]
     },
     "execution_count": 15,
     "metadata": {},
     "output_type": "execute_result"
    }
   ],
   "source": [
    "df[\"Marital_Status\"].unique()"
   ]
  },
  {
   "cell_type": "code",
   "execution_count": 16,
   "metadata": {
    "execution": {
     "iopub.execute_input": "2021-01-26T17:28:27.718321Z",
     "iopub.status.busy": "2021-01-26T17:28:27.717565Z",
     "iopub.status.idle": "2021-01-26T17:28:27.725113Z",
     "shell.execute_reply": "2021-01-26T17:28:27.725648Z"
    },
    "papermill": {
     "duration": 0.048301,
     "end_time": "2021-01-26T17:28:27.725839",
     "exception": false,
     "start_time": "2021-01-26T17:28:27.677538",
     "status": "completed"
    },
    "tags": []
   },
   "outputs": [],
   "source": [
    "df[\"Marital_Status\"] = df[\"Marital_Status\"].map({'Married':1, 'Single':0, 'Unknown':-99, 'Divorced':2})"
   ]
  },
  {
   "cell_type": "code",
   "execution_count": 17,
   "metadata": {
    "execution": {
     "iopub.execute_input": "2021-01-26T17:28:27.804337Z",
     "iopub.status.busy": "2021-01-26T17:28:27.803696Z",
     "iopub.status.idle": "2021-01-26T17:28:27.810184Z",
     "shell.execute_reply": "2021-01-26T17:28:27.810801Z"
    },
    "papermill": {
     "duration": 0.048001,
     "end_time": "2021-01-26T17:28:27.810975",
     "exception": false,
     "start_time": "2021-01-26T17:28:27.762974",
     "status": "completed"
    },
    "tags": []
   },
   "outputs": [
    {
     "data": {
      "text/plain": [
       "array(['$60K - $80K', 'Less than $40K', '$80K - $120K', '$40K - $60K',\n",
       "       '$120K +', 'Unknown'], dtype=object)"
      ]
     },
     "execution_count": 17,
     "metadata": {},
     "output_type": "execute_result"
    }
   ],
   "source": [
    "df[\"Income_Category\"].unique()"
   ]
  },
  {
   "cell_type": "code",
   "execution_count": 18,
   "metadata": {
    "execution": {
     "iopub.execute_input": "2021-01-26T17:28:27.889718Z",
     "iopub.status.busy": "2021-01-26T17:28:27.889121Z",
     "iopub.status.idle": "2021-01-26T17:28:27.896451Z",
     "shell.execute_reply": "2021-01-26T17:28:27.896966Z"
    },
    "papermill": {
     "duration": 0.048517,
     "end_time": "2021-01-26T17:28:27.897146",
     "exception": false,
     "start_time": "2021-01-26T17:28:27.848629",
     "status": "completed"
    },
    "tags": []
   },
   "outputs": [],
   "source": [
    "earning_map = {\n",
    "    '$60K - $80K':2, 'Less than $40K':0, '$80K - $120K':3, '$40K - $60K':1,\n",
    "       '$120K +':4, 'Unknown':-999\n",
    "}\n",
    "df[\"Income_Category\"] = df[\"Income_Category\"].map(earning_map)"
   ]
  },
  {
   "cell_type": "code",
   "execution_count": 19,
   "metadata": {
    "execution": {
     "iopub.execute_input": "2021-01-26T17:28:27.977446Z",
     "iopub.status.busy": "2021-01-26T17:28:27.976723Z",
     "iopub.status.idle": "2021-01-26T17:28:27.982833Z",
     "shell.execute_reply": "2021-01-26T17:28:27.983457Z"
    },
    "papermill": {
     "duration": 0.048408,
     "end_time": "2021-01-26T17:28:27.983644",
     "exception": false,
     "start_time": "2021-01-26T17:28:27.935236",
     "status": "completed"
    },
    "tags": []
   },
   "outputs": [
    {
     "data": {
      "text/plain": [
       "array(['Blue', 'Gold', 'Silver', 'Platinum'], dtype=object)"
      ]
     },
     "execution_count": 19,
     "metadata": {},
     "output_type": "execute_result"
    }
   ],
   "source": [
    "df[\"Card_Category\"].unique()"
   ]
  },
  {
   "cell_type": "code",
   "execution_count": 20,
   "metadata": {
    "execution": {
     "iopub.execute_input": "2021-01-26T17:28:28.063692Z",
     "iopub.status.busy": "2021-01-26T17:28:28.063083Z",
     "iopub.status.idle": "2021-01-26T17:28:28.070395Z",
     "shell.execute_reply": "2021-01-26T17:28:28.070953Z"
    },
    "papermill": {
     "duration": 0.049023,
     "end_time": "2021-01-26T17:28:28.071133",
     "exception": false,
     "start_time": "2021-01-26T17:28:28.022110",
     "status": "completed"
    },
    "tags": []
   },
   "outputs": [],
   "source": [
    "df[\"Card_Category\"] = df[\"Card_Category\"].map({'Blue':0, 'Gold':2, 'Silver':1, 'Platinum':3})"
   ]
  },
  {
   "cell_type": "code",
   "execution_count": 21,
   "metadata": {
    "execution": {
     "iopub.execute_input": "2021-01-26T17:28:28.154371Z",
     "iopub.status.busy": "2021-01-26T17:28:28.153671Z",
     "iopub.status.idle": "2021-01-26T17:28:28.173822Z",
     "shell.execute_reply": "2021-01-26T17:28:28.174462Z"
    },
    "papermill": {
     "duration": 0.065245,
     "end_time": "2021-01-26T17:28:28.174660",
     "exception": false,
     "start_time": "2021-01-26T17:28:28.109415",
     "status": "completed"
    },
    "tags": []
   },
   "outputs": [
    {
     "data": {
      "text/html": [
       "<div>\n",
       "<style scoped>\n",
       "    .dataframe tbody tr th:only-of-type {\n",
       "        vertical-align: middle;\n",
       "    }\n",
       "\n",
       "    .dataframe tbody tr th {\n",
       "        vertical-align: top;\n",
       "    }\n",
       "\n",
       "    .dataframe thead th {\n",
       "        text-align: right;\n",
       "    }\n",
       "</style>\n",
       "<table border=\"1\" class=\"dataframe\">\n",
       "  <thead>\n",
       "    <tr style=\"text-align: right;\">\n",
       "      <th></th>\n",
       "      <th>Attrition_Flag</th>\n",
       "      <th>Customer_Age</th>\n",
       "      <th>Gender</th>\n",
       "      <th>Dependent_count</th>\n",
       "      <th>Education_Level</th>\n",
       "      <th>Marital_Status</th>\n",
       "      <th>Income_Category</th>\n",
       "      <th>Card_Category</th>\n",
       "      <th>Months_on_book</th>\n",
       "      <th>Total_Relationship_Count</th>\n",
       "      <th>Months_Inactive_12_mon</th>\n",
       "      <th>Contacts_Count_12_mon</th>\n",
       "      <th>Credit_Limit</th>\n",
       "      <th>Total_Revolving_Bal</th>\n",
       "      <th>Avg_Open_To_Buy</th>\n",
       "      <th>Total_Amt_Chng_Q4_Q1</th>\n",
       "      <th>Total_Trans_Amt</th>\n",
       "      <th>Total_Trans_Ct</th>\n",
       "      <th>Total_Ct_Chng_Q4_Q1</th>\n",
       "      <th>Avg_Utilization_Ratio</th>\n",
       "    </tr>\n",
       "  </thead>\n",
       "  <tbody>\n",
       "    <tr>\n",
       "      <th>0</th>\n",
       "      <td>0</td>\n",
       "      <td>45</td>\n",
       "      <td>0</td>\n",
       "      <td>3</td>\n",
       "      <td>1</td>\n",
       "      <td>1</td>\n",
       "      <td>2</td>\n",
       "      <td>0</td>\n",
       "      <td>39</td>\n",
       "      <td>5</td>\n",
       "      <td>1</td>\n",
       "      <td>3</td>\n",
       "      <td>12691.0</td>\n",
       "      <td>777</td>\n",
       "      <td>11914.0</td>\n",
       "      <td>1.335</td>\n",
       "      <td>1144</td>\n",
       "      <td>42</td>\n",
       "      <td>1.625</td>\n",
       "      <td>0.061</td>\n",
       "    </tr>\n",
       "    <tr>\n",
       "      <th>1</th>\n",
       "      <td>0</td>\n",
       "      <td>49</td>\n",
       "      <td>1</td>\n",
       "      <td>5</td>\n",
       "      <td>2</td>\n",
       "      <td>0</td>\n",
       "      <td>0</td>\n",
       "      <td>0</td>\n",
       "      <td>44</td>\n",
       "      <td>6</td>\n",
       "      <td>1</td>\n",
       "      <td>2</td>\n",
       "      <td>8256.0</td>\n",
       "      <td>864</td>\n",
       "      <td>7392.0</td>\n",
       "      <td>1.541</td>\n",
       "      <td>1291</td>\n",
       "      <td>33</td>\n",
       "      <td>3.714</td>\n",
       "      <td>0.105</td>\n",
       "    </tr>\n",
       "    <tr>\n",
       "      <th>2</th>\n",
       "      <td>0</td>\n",
       "      <td>51</td>\n",
       "      <td>0</td>\n",
       "      <td>3</td>\n",
       "      <td>2</td>\n",
       "      <td>1</td>\n",
       "      <td>3</td>\n",
       "      <td>0</td>\n",
       "      <td>36</td>\n",
       "      <td>4</td>\n",
       "      <td>1</td>\n",
       "      <td>0</td>\n",
       "      <td>3418.0</td>\n",
       "      <td>0</td>\n",
       "      <td>3418.0</td>\n",
       "      <td>2.594</td>\n",
       "      <td>1887</td>\n",
       "      <td>20</td>\n",
       "      <td>2.333</td>\n",
       "      <td>0.000</td>\n",
       "    </tr>\n",
       "    <tr>\n",
       "      <th>3</th>\n",
       "      <td>0</td>\n",
       "      <td>40</td>\n",
       "      <td>1</td>\n",
       "      <td>4</td>\n",
       "      <td>1</td>\n",
       "      <td>-99</td>\n",
       "      <td>0</td>\n",
       "      <td>0</td>\n",
       "      <td>34</td>\n",
       "      <td>3</td>\n",
       "      <td>4</td>\n",
       "      <td>1</td>\n",
       "      <td>3313.0</td>\n",
       "      <td>2517</td>\n",
       "      <td>796.0</td>\n",
       "      <td>1.405</td>\n",
       "      <td>1171</td>\n",
       "      <td>20</td>\n",
       "      <td>2.333</td>\n",
       "      <td>0.760</td>\n",
       "    </tr>\n",
       "    <tr>\n",
       "      <th>4</th>\n",
       "      <td>0</td>\n",
       "      <td>40</td>\n",
       "      <td>0</td>\n",
       "      <td>3</td>\n",
       "      <td>0</td>\n",
       "      <td>1</td>\n",
       "      <td>2</td>\n",
       "      <td>0</td>\n",
       "      <td>21</td>\n",
       "      <td>5</td>\n",
       "      <td>1</td>\n",
       "      <td>0</td>\n",
       "      <td>4716.0</td>\n",
       "      <td>0</td>\n",
       "      <td>4716.0</td>\n",
       "      <td>2.175</td>\n",
       "      <td>816</td>\n",
       "      <td>28</td>\n",
       "      <td>2.500</td>\n",
       "      <td>0.000</td>\n",
       "    </tr>\n",
       "  </tbody>\n",
       "</table>\n",
       "</div>"
      ],
      "text/plain": [
       "   Attrition_Flag  Customer_Age  Gender  Dependent_count  Education_Level  \\\n",
       "0               0            45       0                3                1   \n",
       "1               0            49       1                5                2   \n",
       "2               0            51       0                3                2   \n",
       "3               0            40       1                4                1   \n",
       "4               0            40       0                3                0   \n",
       "\n",
       "   Marital_Status  Income_Category  Card_Category  Months_on_book  \\\n",
       "0               1                2              0              39   \n",
       "1               0                0              0              44   \n",
       "2               1                3              0              36   \n",
       "3             -99                0              0              34   \n",
       "4               1                2              0              21   \n",
       "\n",
       "   Total_Relationship_Count  Months_Inactive_12_mon  Contacts_Count_12_mon  \\\n",
       "0                         5                       1                      3   \n",
       "1                         6                       1                      2   \n",
       "2                         4                       1                      0   \n",
       "3                         3                       4                      1   \n",
       "4                         5                       1                      0   \n",
       "\n",
       "   Credit_Limit  Total_Revolving_Bal  Avg_Open_To_Buy  Total_Amt_Chng_Q4_Q1  \\\n",
       "0       12691.0                  777          11914.0                 1.335   \n",
       "1        8256.0                  864           7392.0                 1.541   \n",
       "2        3418.0                    0           3418.0                 2.594   \n",
       "3        3313.0                 2517            796.0                 1.405   \n",
       "4        4716.0                    0           4716.0                 2.175   \n",
       "\n",
       "   Total_Trans_Amt  Total_Trans_Ct  Total_Ct_Chng_Q4_Q1  Avg_Utilization_Ratio  \n",
       "0             1144              42                1.625                  0.061  \n",
       "1             1291              33                3.714                  0.105  \n",
       "2             1887              20                2.333                  0.000  \n",
       "3             1171              20                2.333                  0.760  \n",
       "4              816              28                2.500                  0.000  "
      ]
     },
     "execution_count": 21,
     "metadata": {},
     "output_type": "execute_result"
    }
   ],
   "source": [
    "df.head()"
   ]
  },
  {
   "cell_type": "code",
   "execution_count": 22,
   "metadata": {
    "execution": {
     "iopub.execute_input": "2021-01-26T17:28:28.256627Z",
     "iopub.status.busy": "2021-01-26T17:28:28.256014Z",
     "iopub.status.idle": "2021-01-26T17:28:28.262944Z",
     "shell.execute_reply": "2021-01-26T17:28:28.263518Z"
    },
    "papermill": {
     "duration": 0.049607,
     "end_time": "2021-01-26T17:28:28.263687",
     "exception": false,
     "start_time": "2021-01-26T17:28:28.214080",
     "status": "completed"
    },
    "tags": []
   },
   "outputs": [
    {
     "data": {
      "text/plain": [
       "Attrition_Flag                int64\n",
       "Customer_Age                  int64\n",
       "Gender                        int64\n",
       "Dependent_count               int64\n",
       "Education_Level               int64\n",
       "Marital_Status                int64\n",
       "Income_Category               int64\n",
       "Card_Category                 int64\n",
       "Months_on_book                int64\n",
       "Total_Relationship_Count      int64\n",
       "Months_Inactive_12_mon        int64\n",
       "Contacts_Count_12_mon         int64\n",
       "Credit_Limit                float64\n",
       "Total_Revolving_Bal           int64\n",
       "Avg_Open_To_Buy             float64\n",
       "Total_Amt_Chng_Q4_Q1        float64\n",
       "Total_Trans_Amt               int64\n",
       "Total_Trans_Ct                int64\n",
       "Total_Ct_Chng_Q4_Q1         float64\n",
       "Avg_Utilization_Ratio       float64\n",
       "dtype: object"
      ]
     },
     "execution_count": 22,
     "metadata": {},
     "output_type": "execute_result"
    }
   ],
   "source": [
    "df.dtypes"
   ]
  },
  {
   "cell_type": "markdown",
   "metadata": {
    "papermill": {
     "duration": 0.039234,
     "end_time": "2021-01-26T17:28:28.342258",
     "exception": false,
     "start_time": "2021-01-26T17:28:28.303024",
     "status": "completed"
    },
    "tags": []
   },
   "source": [
    "# Model"
   ]
  },
  {
   "cell_type": "code",
   "execution_count": 23,
   "metadata": {
    "execution": {
     "iopub.execute_input": "2021-01-26T17:28:28.424039Z",
     "iopub.status.busy": "2021-01-26T17:28:28.423360Z",
     "iopub.status.idle": "2021-01-26T17:28:29.380779Z",
     "shell.execute_reply": "2021-01-26T17:28:29.379553Z"
    },
    "papermill": {
     "duration": 0.999434,
     "end_time": "2021-01-26T17:28:29.380933",
     "exception": false,
     "start_time": "2021-01-26T17:28:28.381499",
     "status": "completed"
    },
    "tags": []
   },
   "outputs": [
    {
     "data": {
      "text/html": [
       "<style type='text/css'>\n",
       ".datatable table.frame { margin-bottom: 0; }\n",
       ".datatable table.frame thead { border-bottom: none; }\n",
       ".datatable table.frame tr.coltypes td {  color: #FFFFFF;  line-height: 6px;  padding: 0 0.5em;}\n",
       ".datatable .bool    { background: #DDDD99; }\n",
       ".datatable .object  { background: #565656; }\n",
       ".datatable .int     { background: #5D9E5D; }\n",
       ".datatable .float   { background: #4040CC; }\n",
       ".datatable .str     { background: #CC4040; }\n",
       ".datatable .row_index {  background: var(--jp-border-color3);  border-right: 1px solid var(--jp-border-color0);  color: var(--jp-ui-font-color3);  font-size: 9px;}\n",
       ".datatable .frame tr.coltypes .row_index {  background: var(--jp-border-color0);}\n",
       ".datatable th:nth-child(2) { padding-left: 12px; }\n",
       ".datatable .hellipsis {  color: var(--jp-cell-editor-border-color);}\n",
       ".datatable .vellipsis {  background: var(--jp-layout-color0);  color: var(--jp-cell-editor-border-color);}\n",
       ".datatable .na {  color: var(--jp-cell-editor-border-color);  font-size: 80%;}\n",
       ".datatable .footer { font-size: 9px; }\n",
       ".datatable .frame_dimensions {  background: var(--jp-border-color3);  border-top: 1px solid var(--jp-border-color0);  color: var(--jp-ui-font-color3);  display: inline-block;  opacity: 0.6;  padding: 1px 10px 1px 5px;}\n",
       "</style>\n"
      ],
      "text/plain": [
       "<IPython.core.display.HTML object>"
      ]
     },
     "metadata": {},
     "output_type": "display_data"
    }
   ],
   "source": [
    "from xgboost import XGBClassifier\n",
    "from lightgbm import LGBMClassifier\n",
    "from numpy import mean\n",
    "from sklearn.ensemble import RandomForestClassifier\n",
    "from sklearn.model_selection import StratifiedKFold, cross_val_score, train_test_split"
   ]
  },
  {
   "cell_type": "code",
   "execution_count": 24,
   "metadata": {
    "execution": {
     "iopub.execute_input": "2021-01-26T17:28:29.468661Z",
     "iopub.status.busy": "2021-01-26T17:28:29.467996Z",
     "iopub.status.idle": "2021-01-26T17:28:29.473618Z",
     "shell.execute_reply": "2021-01-26T17:28:29.472925Z"
    },
    "papermill": {
     "duration": 0.052172,
     "end_time": "2021-01-26T17:28:29.473777",
     "exception": false,
     "start_time": "2021-01-26T17:28:29.421605",
     "status": "completed"
    },
    "tags": []
   },
   "outputs": [],
   "source": [
    "target = df[\"Attrition_Flag\"]\n",
    "df.drop([\"Attrition_Flag\"], inplace=True, axis=1)"
   ]
  },
  {
   "cell_type": "code",
   "execution_count": 25,
   "metadata": {
    "execution": {
     "iopub.execute_input": "2021-01-26T17:28:29.559059Z",
     "iopub.status.busy": "2021-01-26T17:28:29.558336Z",
     "iopub.status.idle": "2021-01-26T17:28:29.561721Z",
     "shell.execute_reply": "2021-01-26T17:28:29.562263Z"
    },
    "papermill": {
     "duration": 0.04838,
     "end_time": "2021-01-26T17:28:29.562429",
     "exception": false,
     "start_time": "2021-01-26T17:28:29.514049",
     "status": "completed"
    },
    "tags": []
   },
   "outputs": [
    {
     "data": {
      "text/plain": [
       "(10127, 19)"
      ]
     },
     "execution_count": 25,
     "metadata": {},
     "output_type": "execute_result"
    }
   ],
   "source": [
    "df.shape"
   ]
  },
  {
   "cell_type": "code",
   "execution_count": 26,
   "metadata": {
    "execution": {
     "iopub.execute_input": "2021-01-26T17:28:29.647857Z",
     "iopub.status.busy": "2021-01-26T17:28:29.647202Z",
     "iopub.status.idle": "2021-01-26T17:28:29.655102Z",
     "shell.execute_reply": "2021-01-26T17:28:29.654459Z"
    },
    "papermill": {
     "duration": 0.051643,
     "end_time": "2021-01-26T17:28:29.655244",
     "exception": false,
     "start_time": "2021-01-26T17:28:29.603601",
     "status": "completed"
    },
    "tags": []
   },
   "outputs": [
    {
     "data": {
      "text/plain": [
       "(10127,)"
      ]
     },
     "execution_count": 26,
     "metadata": {},
     "output_type": "execute_result"
    }
   ],
   "source": [
    "target.shape"
   ]
  },
  {
   "cell_type": "markdown",
   "metadata": {
    "papermill": {
     "duration": 0.040902,
     "end_time": "2021-01-26T17:28:29.736933",
     "exception": false,
     "start_time": "2021-01-26T17:28:29.696031",
     "status": "completed"
    },
    "tags": []
   },
   "source": [
    "**Prepare the train-test sets**"
   ]
  },
  {
   "cell_type": "code",
   "execution_count": 27,
   "metadata": {
    "execution": {
     "iopub.execute_input": "2021-01-26T17:28:29.824127Z",
     "iopub.status.busy": "2021-01-26T17:28:29.823171Z",
     "iopub.status.idle": "2021-01-26T17:28:29.840347Z",
     "shell.execute_reply": "2021-01-26T17:28:29.840900Z"
    },
    "papermill": {
     "duration": 0.062541,
     "end_time": "2021-01-26T17:28:29.841079",
     "exception": false,
     "start_time": "2021-01-26T17:28:29.778538",
     "status": "completed"
    },
    "tags": []
   },
   "outputs": [],
   "source": [
    "X_train, X_test, y_train, y_test = train_test_split(df, target,test_size=0.2, stratify=target)"
   ]
  },
  {
   "cell_type": "code",
   "execution_count": 28,
   "metadata": {
    "execution": {
     "iopub.execute_input": "2021-01-26T17:28:29.926467Z",
     "iopub.status.busy": "2021-01-26T17:28:29.925494Z",
     "iopub.status.idle": "2021-01-26T17:28:29.931202Z",
     "shell.execute_reply": "2021-01-26T17:28:29.931787Z"
    },
    "papermill": {
     "duration": 0.050123,
     "end_time": "2021-01-26T17:28:29.931964",
     "exception": false,
     "start_time": "2021-01-26T17:28:29.881841",
     "status": "completed"
    },
    "tags": []
   },
   "outputs": [],
   "source": [
    "cv = StratifiedKFold(n_splits=10, shuffle=True, random_state=1)\n",
    "xgb_model = XGBClassifier(\n",
    "    learning_rate=0.09,\n",
    "    n_estimators=250,\n",
    "    max_depth=3,\n",
    "    objective= 'binary:logistic',\n",
    "    subsample = 0.75,\n",
    "    alpha= 0.01,\n",
    "    gamma= 0.1,\n",
    "    min_child_weight = 3,\n",
    "    use_label_encoder = False,\n",
    "    colsample_bytree = 0.8,\n",
    "    eval_metric='logloss'\n",
    "                     )\n",
    "# scores = cross_val_score(xgb_model, X_train, y_train, scoring='accuracy', cv=cv)\n",
    "# print(scores*100)\n",
    "# print(\"XGB cross validation score:\",mean(scores)*100)"
   ]
  },
  {
   "cell_type": "markdown",
   "metadata": {
    "papermill": {
     "duration": 0.040726,
     "end_time": "2021-01-26T17:28:30.013958",
     "exception": false,
     "start_time": "2021-01-26T17:28:29.973232",
     "status": "completed"
    },
    "tags": []
   },
   "source": [
    "**Testing the XGB model**"
   ]
  },
  {
   "cell_type": "code",
   "execution_count": 29,
   "metadata": {
    "execution": {
     "iopub.execute_input": "2021-01-26T17:28:30.099738Z",
     "iopub.status.busy": "2021-01-26T17:28:30.098828Z",
     "iopub.status.idle": "2021-01-26T17:28:30.942327Z",
     "shell.execute_reply": "2021-01-26T17:28:30.943016Z"
    },
    "papermill": {
     "duration": 0.88842,
     "end_time": "2021-01-26T17:28:30.943216",
     "exception": false,
     "start_time": "2021-01-26T17:28:30.054796",
     "status": "completed"
    },
    "tags": []
   },
   "outputs": [
    {
     "name": "stdout",
     "output_type": "stream",
     "text": [
      "LGB train accuracy: 97.8600103905918\n",
      "XGB test accuracy: 97.04776350507971\n"
     ]
    }
   ],
   "source": [
    "xgb_model.fit(X_train, y_train)\n",
    "from sklearn.metrics import roc_auc_score\n",
    "y_train_pred = xgb_model.predict(X_train)\n",
    "print(\"LGB train accuracy:\",roc_auc_score(y_train_pred,y_train)*100)\n",
    "y_pred = xgb_model.predict(X_test)\n",
    "print(\"XGB test accuracy:\",roc_auc_score(y_pred,y_test)*100)"
   ]
  },
  {
   "cell_type": "code",
   "execution_count": 30,
   "metadata": {
    "execution": {
     "iopub.execute_input": "2021-01-26T17:28:31.034898Z",
     "iopub.status.busy": "2021-01-26T17:28:31.033903Z",
     "iopub.status.idle": "2021-01-26T17:28:31.037296Z",
     "shell.execute_reply": "2021-01-26T17:28:31.036648Z"
    },
    "papermill": {
     "duration": 0.050278,
     "end_time": "2021-01-26T17:28:31.037437",
     "exception": false,
     "start_time": "2021-01-26T17:28:30.987159",
     "status": "completed"
    },
    "tags": []
   },
   "outputs": [],
   "source": [
    "lgb_model = LGBMClassifier(learning_rate=0.09,\n",
    "                       num_leaves = 250,\n",
    "                       boosting_type='gbdt',\n",
    "                       objective='binary',\n",
    "                       metric='binary_logloss,auc',\n",
    "                       max_depth = 3,\n",
    "                       n_estimators=2500, subsample_for_bin=40000, \n",
    "                       min_split_gain=2, min_child_weight=2, min_child_samples=5, subsample=0.9)"
   ]
  },
  {
   "cell_type": "markdown",
   "metadata": {
    "papermill": {
     "duration": 0.050508,
     "end_time": "2021-01-26T17:28:31.129831",
     "exception": false,
     "start_time": "2021-01-26T17:28:31.079323",
     "status": "completed"
    },
    "tags": []
   },
   "source": [
    "**Testing the LGB model**"
   ]
  },
  {
   "cell_type": "code",
   "execution_count": 31,
   "metadata": {
    "execution": {
     "iopub.execute_input": "2021-01-26T17:28:31.227513Z",
     "iopub.status.busy": "2021-01-26T17:28:31.226553Z",
     "iopub.status.idle": "2021-01-26T17:28:32.721987Z",
     "shell.execute_reply": "2021-01-26T17:28:32.722657Z"
    },
    "papermill": {
     "duration": 1.543403,
     "end_time": "2021-01-26T17:28:32.722879",
     "exception": false,
     "start_time": "2021-01-26T17:28:31.179476",
     "status": "completed"
    },
    "tags": []
   },
   "outputs": [
    {
     "name": "stdout",
     "output_type": "stream",
     "text": [
      "LGB train accuracy: 97.34345670246854\n",
      "LGB test accuracy: 96.74153453794987\n"
     ]
    }
   ],
   "source": [
    "lgb_model.fit(X_train, y_train)\n",
    "y_train_pred = lgb_model.predict(X_train)\n",
    "print(\"LGB train accuracy:\",roc_auc_score(y_train_pred,y_train)*100)\n",
    "y_pred = lgb_model.predict(X_test)\n",
    "print(\"LGB test accuracy:\",roc_auc_score(y_pred,y_test)*100)"
   ]
  },
  {
   "cell_type": "code",
   "execution_count": null,
   "metadata": {
    "papermill": {
     "duration": 0.043971,
     "end_time": "2021-01-26T17:28:32.812583",
     "exception": false,
     "start_time": "2021-01-26T17:28:32.768612",
     "status": "completed"
    },
    "tags": []
   },
   "outputs": [],
   "source": []
  }
 ],
 "metadata": {
  "kernelspec": {
   "display_name": "Python 3",
   "language": "python",
   "name": "python3"
  },
  "language_info": {
   "codemirror_mode": {
    "name": "ipython",
    "version": 3
   },
   "file_extension": ".py",
   "mimetype": "text/x-python",
   "name": "python",
   "nbconvert_exporter": "python",
   "pygments_lexer": "ipython3",
   "version": "3.7.9"
  },
  "papermill": {
   "default_parameters": {},
   "duration": 18.392502,
   "end_time": "2021-01-26T17:28:33.573520",
   "environment_variables": {},
   "exception": null,
   "input_path": "__notebook__.ipynb",
   "output_path": "__notebook__.ipynb",
   "parameters": {},
   "start_time": "2021-01-26T17:28:15.181018",
   "version": "2.2.2"
  }
 },
 "nbformat": 4,
 "nbformat_minor": 4
}
